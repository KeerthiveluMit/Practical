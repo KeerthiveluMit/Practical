{
  "nbformat": 4,
  "nbformat_minor": 0,
  "metadata": {
    "colab": {
      "provenance": [],
      "authorship_tag": "ABX9TyNTZaCcvEifuv3uIgmOPu6Z",
      "include_colab_link": true
    },
    "kernelspec": {
      "name": "python3",
      "display_name": "Python 3"
    },
    "language_info": {
      "name": "python"
    }
  },
  "cells": [
    {
      "cell_type": "markdown",
      "metadata": {
        "id": "view-in-github",
        "colab_type": "text"
      },
      "source": [
        "<a href=\"https://colab.research.google.com/github/KeerthiveluMit/Practical/blob/main/Untitled11.ipynb\" target=\"_parent\"><img src=\"https://colab.research.google.com/assets/colab-badge.svg\" alt=\"Open In Colab\"/></a>"
      ]
    },
    {
      "cell_type": "code",
      "execution_count": null,
      "metadata": {
        "id": "nVTJk7OXeq27"
      },
      "outputs": [],
      "source": [
        "# Install required libraries\n",
        "!pip install -q gradio gtts\n",
        "\n",
        "import gradio as gr\n",
        "from gtts import gTTS\n",
        "import tempfile\n",
        "import os\n",
        "\n",
        "def text_to_speech(text):\n",
        "    if not text.strip():\n",
        "        return None\n",
        "    # Generate speech audio and save to a temp file\n",
        "    with tempfile.NamedTemporaryFile(suffix=\".mp3\", delete=False) as tmp:\n",
        "        tts = gTTS(text=text, lang='en')\n",
        "        tts.save(tmp.name)\n",
        "        tmp_path = tmp.name\n",
        "    return tmp_path\n",
        "\n",
        "# Gradio interface with textbox input and audio output\n",
        "iface = gr.Interface(\n",
        "    fn=text_to_speech,\n",
        "    inputs=gr.Textbox(lines=4, placeholder=\"Enter text to convert to speech...\"),\n",
        "    outputs=gr.Audio(type=\"filepath\"),\n",
        "    title=\"Text to Speech Converter\",\n",
        "    description=\"Enter any text, and hear it spoken aloud!\"\n",
        ")\n",
        "\n",
        "iface.launch()"
      ]
    }
  ]
}