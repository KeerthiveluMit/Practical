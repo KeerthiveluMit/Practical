{
  "nbformat": 4,
  "nbformat_minor": 0,
  "metadata": {
    "colab": {
      "provenance": [],
      "authorship_tag": "ABX9TyOirf9OImUq9mVTvhm1tK0q",
      "include_colab_link": true
    },
    "kernelspec": {
      "name": "python3",
      "display_name": "Python 3"
    },
    "language_info": {
      "name": "python"
    }
  },
  "cells": [
    {
      "cell_type": "markdown",
      "metadata": {
        "id": "view-in-github",
        "colab_type": "text"
      },
      "source": [
        "<a href=\"https://colab.research.google.com/github/KeerthiveluMit/Practical/blob/main/Untitled11.ipynb\" target=\"_parent\"><img src=\"https://colab.research.google.com/assets/colab-badge.svg\" alt=\"Open In Colab\"/></a>"
      ]
    },
    {
      "cell_type": "code",
      "execution_count": null,
      "metadata": {
        "id": "FQUqDKOqfGzd"
      },
      "outputs": [],
      "source": [
        "# Install required packages\n",
        "!pip install -q transformers gradio\n",
        "\n",
        "from transformers import AutoModelForCausalLM, AutoTokenizer\n",
        "import torch\n",
        "import gradio as gr\n",
        "\n",
        "# Load the model and tokenizer\n",
        "model_name = \"microsoft/DialoGPT-small\"\n",
        "tokenizer = AutoTokenizer.from_pretrained(model_name)\n",
        "model = AutoModelForCausalLM.from_pretrained(model_name)\n",
        "\n",
        "# Store chat history across calls\n",
        "chat_history = []\n",
        "\n",
        "# Define the chatbot function\n",
        "def chat(user_input):\n",
        "    global chat_history\n",
        "    # Encode user input and append end-of-string token\n",
        "    new_input_ids = tokenizer.encode(user_input + tokenizer.eos_token, return_tensors='pt')\n",
        "\n",
        "    # Concatenate chat history with new input\n",
        "    bot_input_ids = torch.cat(chat_history + [new_input_ids], dim=-1) if chat_history else new_input_ids\n",
        "\n",
        "    # Generate a response\n",
        "    output_ids = model.generate(bot_input_ids, max_length=1000, pad_token_id=tokenizer.eos_token_id)\n",
        "\n",
        "    # Save chat history\n",
        "    chat_history.append(new_input_ids)\n",
        "    chat_history.append(output_ids[:, bot_input_ids.shape[-1]:])\n",
        "\n",
        "    # Decode the response\n",
        "    response = tokenizer.decode(output_ids[:, bot_input_ids.shape[-1]:][0], skip_special_tokens=True)\n",
        "    return response\n",
        "\n",
        "# Gradio interface\n",
        "gr.Interface(fn=chat,\n",
        "             inputs=gr.Textbox(lines=2, placeholder=\"Say something...\"),\n",
        "             outputs=\"text\",\n",
        "             title=\"DialoGPT Chatbot\",\n",
        "             description=\"A simple chatbot using Microsoft's DialoGPT-small model.\").launch(share=True)"
      ]
    }
  ]
}