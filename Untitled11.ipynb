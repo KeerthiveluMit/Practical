{
  "nbformat": 4,
  "nbformat_minor": 0,
  "metadata": {
    "colab": {
      "provenance": [],
      "authorship_tag": "ABX9TyNe0c79RKvpphGAs7g2QVCN",
      "include_colab_link": true
    },
    "kernelspec": {
      "name": "python3",
      "display_name": "Python 3"
    },
    "language_info": {
      "name": "python"
    }
  },
  "cells": [
    {
      "cell_type": "markdown",
      "metadata": {
        "id": "view-in-github",
        "colab_type": "text"
      },
      "source": [
        "<a href=\"https://colab.research.google.com/github/KeerthiveluMit/Practical/blob/main/Untitled11.ipynb\" target=\"_parent\"><img src=\"https://colab.research.google.com/assets/colab-badge.svg\" alt=\"Open In Colab\"/></a>"
      ]
    },
    {
      "cell_type": "code",
      "execution_count": null,
      "metadata": {
        "id": "p5XYI9XDfeGc"
      },
      "outputs": [],
      "source": [
        "!pip install gradio\n",
        "import numpy as np\n",
        "import pandas as pd\n",
        "import gradio as gr\n",
        "import matplotlib.pyplot as plt\n",
        "from sklearn.model_selection import train_test_split\n",
        "from sklearn.linear_model import LinearRegression\n",
        "from sklearn.metrics import mean_absolute_error, r2_score\n",
        "\n",
        "# Sample dataset (Plot Area in sq.ft vs Price per sq.ft in INR)\n",
        "data = {\n",
        "    \"Plot_Area_sqft\": [500, 750, 1000, 1200, 1500, 1800, 2000, 2500, 3000, 3500],\n",
        "    \"Price_per_sqft\": [3000, 3200, 3500, 3700, 4000, 4200, 4500, 4700, 5000, 5200]\n",
        "}\n",
        "\n",
        "df = pd.DataFrame(data)\n",
        "\n",
        "# Define X (features) and y (target)\n",
        "X = df[[\"Plot_Area_sqft\"]]\n",
        "y = df[\"Price_per_sqft\"]\n",
        "\n",
        "# Split data into training and testing sets\n",
        "X_train, X_test, y_train, y_test = train_test_split(X, y, test_size=0.2, random_state=42)\n",
        "\n",
        "# Train a Linear Regression model\n",
        "model = LinearRegression()\n",
        "model.fit(X_train, y_train)\n",
        "\n",
        "# Predictions\n",
        "y_pred = model.predict(X_test)\n",
        "\n",
        "# Function to predict price per sq.ft\n",
        "def predict_price(plot_area):\n",
        "    prediction = model.predict(np.array([[plot_area]]))[0]\n",
        "    return f\"Estimated Price per sq.ft: ₹{round(prediction, 2)}\"\n",
        "\n",
        "# Function to visualize predictions\n",
        "def plot_regression():\n",
        "    plt.figure(figsize=(8, 5))\n",
        "    plt.scatter(df[\"Plot_Area_sqft\"], df[\"Price_per_sqft\"], color=\"blue\", label=\"Actual Data\")\n",
        "    plt.plot(df[\"Plot_Area_sqft\"], model.predict(X), color=\"red\", linewidth=2, label=\"Regression Line\")\n",
        "    plt.xlabel(\"Plot Area (sq.ft)\")\n",
        "    plt.ylabel(\"Price per sq.ft (INR)\")\n",
        "    plt.title(\"Real Estate Rate Prediction\")\n",
        "    plt.legend()\n",
        "    plt.grid(True)\n",
        "    plt.savefig(\"regression_plot.png\")\n",
        "    return \"regression_plot.png\"\n",
        "\n",
        "# Gradio UI\n",
        "with gr.Blocks() as demo:\n",
        "    gr.Markdown(\"# 🏡 Real Estate Price Predictor\")\n",
        "    gr.Markdown(\"Enter plot area in **sq.ft** to get an estimated price per **sq.ft (INR)**.\")\n",
        "\n",
        "    plot_area_input = gr.Number(label=\"Enter Plot Area (sq.ft)\", value=1000)\n",
        "    output_price = gr.Textbox(label=\"Predicted Price per sq.ft\")\n",
        "\n",
        "    predict_button = gr.Button(\"Predict Price\")\n",
        "    predict_button.click(predict_price, inputs=[plot_area_input], outputs=[output_price])\n",
        "\n",
        "    gr.Markdown(\"### 📈 Regression Plot\")\n",
        "    plot_output = gr.Image(label=\"Regression Plot\")\n",
        "    plot_button = gr.Button(\"Show Regression Plot\")\n",
        "    plot_button.click(plot_regression, inputs=[], outputs=[plot_output])\n",
        "\n",
        "# Launch Gradio App\n",
        "demo.launch()"
      ]
    }
  ]
}